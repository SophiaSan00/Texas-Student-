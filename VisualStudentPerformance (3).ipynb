{
 "cells": [
  {
   "cell_type": "markdown",
   "id": "aeb703f2",
   "metadata": {},
   "source": [
    "# Interactive Visual\n",
    "    To show a part two of the Student's Performance of Texas in 2021 because slow process with html visual result and complex math from the graph of the first notebook. The necesssary librarys to get interactive results of the graphs. There is cufflinks  is also very important to pass through authorization of Juypter Notebbok. "
   ]
  },
  {
   "cell_type": "code",
   "execution_count": null,
   "id": "6cf53536",
   "metadata": {},
   "outputs": [],
   "source": [
    "import pandas as pd\n",
    "import numpy as np\n",
    "import matplotlib.pyplot as plt\n",
    "import folium\n",
    "from folium import plugins\n",
    "import json\n",
    "import ipywidgets as widgets\n",
    "from ipywidgets import interact\n",
    "import geopandas as gpd\n",
    "from folium.plugins import MarkerCluster\n",
    "from branca.colormap import linear\n",
    "import branca.colormap as cm\n",
    "import ipyleaflet\n",
    "from urllib.request import urlopen\n",
    "import requests\n",
    "import plotly.express as px"
   ]
  },
  {
   "cell_type": "code",
   "execution_count": null,
   "id": "f61f13f4",
   "metadata": {},
   "outputs": [],
   "source": [
    "import plotly.graph_objs as go\n",
    "from plotly.offline import iplot, init_notebook_mode\n",
    "import cufflinks\n",
    "cufflinks.go_offline(connected=True)\n",
    "init_notebook_mode(connected=True)"
   ]
  },
  {
   "cell_type": "code",
   "execution_count": null,
   "id": "247fe3b0",
   "metadata": {},
   "outputs": [],
   "source": [
    "from IPython.display import clear_output, display\n",
    "from IPython.display import set_matplotlib_formats\n",
    "from IPython.display import display\n",
    "%matplotlib inline"
   ]
  },
  {
   "cell_type": "code",
   "execution_count": null,
   "id": "698cba8f",
   "metadata": {},
   "outputs": [],
   "source": [
    "dcdc= pd.read_csv('Downloads/dcdc.csv')\n",
    "dcdc.fillna(method= 'ffill', inplace=True)\n",
    "dcdc.drop(['Unnamed: 18','Unnamed: 0'],axis=1,inplace=True)\n",
    "print(dcdc.head())\n",
    "result = dcdc.dtypes\n",
    "print(result)"
   ]
  },
  {
   "cell_type": "code",
   "execution_count": null,
   "id": "f339ea14",
   "metadata": {
    "scrolled": true
   },
   "outputs": [],
   "source": [
    "print(dcdc.isnull().sum())"
   ]
  },
  {
   "cell_type": "code",
   "execution_count": null,
   "id": "928c295d",
   "metadata": {
    "scrolled": true
   },
   "outputs": [],
   "source": [
    "sorted_dcdc =dcdc.sort_values('Total', ascending=False).head(5)\n",
    "sorted_dcdc"
   ]
  },
  {
   "cell_type": "markdown",
   "id": "21240b93",
   "metadata": {},
   "source": [
    "This is the results of the combine of the district and campus csv files together into one known as dcdc.csv. We look at for any missing variables. I also sorted the dcdc dataframe with the features value of Total SAT scores and pick top 5. "
   ]
  },
  {
   "cell_type": "markdown",
   "id": "a4c0b6d4",
   "metadata": {},
   "source": [
    "# Color the Table\n",
    "I highlight that I want to see and thought it will be fun to add some color to the table. Highlight from SAT_English to ComposD on the table of dcdc."
   ]
  },
  {
   "cell_type": "code",
   "execution_count": null,
   "id": "2d654410",
   "metadata": {
    "scrolled": true
   },
   "outputs": [],
   "source": [
    "def highlight_col(x):\n",
    "    b= 'background-color: blue'\n",
    "    y= 'background-color: yellow'\n",
    "    r= 'background-color: red'\n",
    "    g= 'background-color: green'\n",
    "    o= 'background-color: orange'\n",
    "    p= 'background-color: purple'\n",
    "    pp= 'background-color: pink'\n",
    "    l= 'backgtound-color: lime'\n",
    "    cn= 'background-color: crimson'\n",
    "    dr= 'background-color: darkred'\n",
    "    mn= 'background-color: maroon'\n",
    "    lg= 'background-color: lawngreen'\n",
    "    c= 'background-color: cyan'\n",
    "    pm= 'background-color: plum'\n",
    "    od= 'background-color: orchid'\n",
    "    i= 'background-color: indigo'\n",
    "    temp_dcdc= pd.DataFrame('', index=x.index, columns=x.columns)\n",
    "    temp_dcdc.iloc[:,7] = b\n",
    "    temp_dcdc.iloc[:,8] = y\n",
    "    temp_dcdc.iloc[:,9] = r\n",
    "    temp_dcdc.iloc[:,12] = g\n",
    "    temp_dcdc.iloc[:,13] = o\n",
    "    temp_dcdc.iloc[:,14] = p\n",
    "    temp_dcdc.iloc[:,15] = pp\n",
    "    temp_dcdc.iloc[:,16] = l\n",
    "    temp_dcdc.iloc[:,17] = cn\n",
    "    temp_dcdc.iloc[:,18] = dr\n",
    "    temp_dcdc.iloc[:,19] = mn\n",
    "    temp_dcdc.iloc[:,20] = lg\n",
    "    temp_dcdc.iloc[:,21] = c\n",
    "    temp_dcdc.iloc[:,22] = pm\n",
    "    temp_dcdc.iloc[:,23] = od\n",
    "    temp_dcdc.iloc[:,24] = i\n",
    "    return temp_dcdc\n",
    "\n",
    "sorted_dcdc.style.apply(highlight_col, axis=None)        "
   ]
  },
  {
   "cell_type": "markdown",
   "id": "07ec938f",
   "metadata": {},
   "source": [
    "# Heat Map of District and Campus\n",
    "Interactive HeatMap to see the correlation with all the features in the dcdc data frame."
   ]
  },
  {
   "cell_type": "code",
   "execution_count": null,
   "id": "743e90fc",
   "metadata": {},
   "outputs": [],
   "source": [
    "corr_matrix= dcdc.corr()\n",
    "fig = px.imshow(corr_matrix,text_auto=True)\n",
    "fig.show()"
   ]
  },
  {
   "cell_type": "markdown",
   "id": "41779082",
   "metadata": {},
   "source": [
    "# Line Chart of Campus \n",
    "Line chart to see the campus with Total SAT scores with subjects of Reading and Math. Another line chart present of campus with ACT Compos score with subjet of Reading, English, Math, and Science."
   ]
  },
  {
   "cell_type": "code",
   "execution_count": null,
   "id": "124ee8c4",
   "metadata": {},
   "outputs": [],
   "source": [
    "dcdc = pd.DataFrame(dcdc)\n",
    "\n",
    "#generate the line plot\n",
    "fig = go.Figure()\n",
    "fig.add_trace(go.Scatter(x=dcdc['Total'], y=dcdc['SAT_Reading'],\n",
    "               name=\"SAT_Reading\", mode=\"lines\"))\n",
    "\n",
    "fig.add_trace(go.Scatter(x=dcdc['Total'], y=dcdc['SAT_Math'],\n",
    "               name=\"SAT_Math\", mode=\"lines\"))\n",
    "fig.update_layout(\n",
    "    title=\"SAT Scores in different subjects\", xaxis_title=\" SAT Total\", yaxis_title=\"SAT Reading\"\n",
    ")\n",
    "#Set the size of the plot\n",
    "fig.update_layout(width=716, height=350)\n",
    "\n",
    "# Show the plot\n",
    "fig.show()\n"
   ]
  },
  {
   "cell_type": "code",
   "execution_count": null,
   "id": "471e1606",
   "metadata": {
    "scrolled": false
   },
   "outputs": [],
   "source": [
    "dcdc = pd.DataFrame(dcdc)\n",
    "\n",
    "\n",
    "\n",
    "#generate the line plot\n",
    "fig = go.Figure()\n",
    "fig.add_trace(go.Scatter(x=dcdc['Compos'], y=dcdc['English'],\n",
    "               name=\"English\", mode=\"lines\"))\n",
    "\n",
    "fig.add_trace(go.Scatter(x=dcdc['Compos'], y=dcdc['ACT_Math'],\n",
    "               name=\"ACT_Math\", mode=\"lines\"))\n",
    "\n",
    "fig.add_trace(go.Scatter(x=dcdc['Compos'], y=dcdc['Reading'],\n",
    "               name=\"Reading\", mode=\"lines\"))\n",
    "\n",
    "fig.add_trace(go.Scatter(x=dcdc['Compos'], y=dcdc['Science'],\n",
    "               name=\"Science\", mode=\"lines\"))\n",
    "\n",
    "fig.update_layout(\n",
    "    title=\"ACT Scores in different subjects\", xaxis_title=\" ACT Total\", yaxis_title=\"SAT English\"\n",
    ")\n",
    "#Set the size of the plot\n",
    "fig.update_layout(width=716, height=350)\n",
    "\n",
    "# Show the plot\n",
    "fig.show()"
   ]
  },
  {
   "cell_type": "markdown",
   "id": "d6bf4fcf",
   "metadata": {},
   "source": [
    "# Line Chart of District  \n",
    "Line chart to see the district with Total SAT scores with subjects of Reading and Math. Another line chart present of district with ACT Compos score with subjet of Reading, English, Math, and Science."
   ]
  },
  {
   "cell_type": "code",
   "execution_count": null,
   "id": "d07306de",
   "metadata": {
    "scrolled": true
   },
   "outputs": [],
   "source": [
    "dcdc = pd.DataFrame(dcdc)\n",
    "\n",
    "#generate the line plot\n",
    "fig = go.Figure()\n",
    "fig.add_trace(go.Scatter(x=dcdc['TotalD'], y=dcdc['SAT_ReadingD'],\n",
    "               name=\"SAT_Reading\", mode=\"lines\"))\n",
    "\n",
    "fig.add_trace(go.Scatter(x=dcdc['TotalD'], y=dcdc['SAT_MathD'],\n",
    "               name=\"SAT_Math\", mode=\"lines\"))\n",
    "fig.update_layout(\n",
    "    title=\"SAT Scores in different subjects\", xaxis_title=\" SAT Total\", yaxis_title=\"SAT Reading\"\n",
    ")\n",
    "#Set the size of the plot\n",
    "fig.update_layout(width=716, height=350)\n",
    "\n",
    "# Show the plot\n",
    "fig.show()\n"
   ]
  },
  {
   "cell_type": "code",
   "execution_count": null,
   "id": "3bfedee2",
   "metadata": {
    "scrolled": true
   },
   "outputs": [],
   "source": [
    "dcdc = pd.DataFrame(dcdc)\n",
    "\n",
    "#generate the line plot\n",
    "fig = go.Figure()\n",
    "fig.add_trace(go.Scatter(x=dcdc['ComposD'], y=dcdc['EnglishD'],\n",
    "               name=\"English\", mode=\"lines\"))\n",
    "\n",
    "fig.add_trace(go.Scatter(x=dcdc['ComposD'], y=dcdc['ACT_MathD'],\n",
    "               name=\"ACT_Math\", mode=\"lines\"))\n",
    "\n",
    "fig.add_trace(go.Scatter(x=dcdc['ComposD'], y=dcdc['ReadingD'],\n",
    "               name=\"Reading\", mode=\"lines\"))\n",
    "\n",
    "fig.add_trace(go.Scatter(x=dcdc['ComposD'], y=dcdc['ScienceD'],\n",
    "               name=\"Science\", mode=\"lines\"))\n",
    "\n",
    "fig.update_layout(\n",
    "    title=\"ACT Scores in different subjects\", xaxis_title=\" ACT Total\", yaxis_title=\"SAT English\"\n",
    ")\n",
    "#Set the size of the plot\n",
    "fig.update_layout(width=716, height=350)\n",
    "\n",
    "# Show the plot\n",
    "fig.show()"
   ]
  },
  {
   "cell_type": "markdown",
   "id": "93840ba5",
   "metadata": {},
   "source": [
    "# Histrograms of Campus\n",
    "To look the frequent number range of SAT Total and ACT Compos within campus "
   ]
  },
  {
   "cell_type": "code",
   "execution_count": null,
   "id": "fba1520f",
   "metadata": {},
   "outputs": [],
   "source": [
    "px.histogram(data_frame=dcdc, x='Total', histnorm='probability density',\n",
    "            title='Histrogtam SAT Total of Campus',\n",
    "            labels={'Total':'Total of SAT Scores Campus'})"
   ]
  },
  {
   "cell_type": "code",
   "execution_count": null,
   "id": "064d0251",
   "metadata": {},
   "outputs": [],
   "source": [
    "px.histogram(data_frame=dcdc, x='Compos', histnorm='probability density',\n",
    "            title='Histrogtam Compos ACT of Campus',\n",
    "            labels={'Compos':'Compos of ACT Scores Campus'})"
   ]
  },
  {
   "cell_type": "markdown",
   "id": "88e58103",
   "metadata": {},
   "source": [
    "# Histrogam of District \n",
    "To look at the frequent number of SAT Total and ACT Compos within District "
   ]
  },
  {
   "cell_type": "code",
   "execution_count": null,
   "id": "a226f7ed",
   "metadata": {
    "scrolled": true
   },
   "outputs": [],
   "source": [
    "px.histogram(data_frame=dcdc, x='TotalD', histnorm='probability density',\n",
    "            title='Histrogtam SAT Total of District',\n",
    "            labels={'Total':'Total of SAT Scores District'})"
   ]
  },
  {
   "cell_type": "code",
   "execution_count": null,
   "id": "1bb3aa7d",
   "metadata": {
    "scrolled": true
   },
   "outputs": [],
   "source": [
    "px.histogram(data_frame=dcdc, x='ComposD', histnorm='probability density',\n",
    "            title='Histrogtam Compos ACT of District',\n",
    "            labels={'Compos':'Compos of ACT Scores District'})"
   ]
  },
  {
   "cell_type": "markdown",
   "id": "f7a451c2",
   "metadata": {},
   "source": [
    "# Scatterplot Matrix of Campus"
   ]
  },
  {
   "cell_type": "code",
   "execution_count": null,
   "id": "7ed4e4a2",
   "metadata": {
    "scrolled": true
   },
   "outputs": [],
   "source": [
    "fig = px.scatter_matrix(dcdc,\n",
    "    dimensions=[\"SAT_Reading\", \"SAT_Math\", \"English\", \"ACT_Math\",\"Reading\",\"Science\"],\n",
    "    color=\"Group\")\n",
    "fig.show()"
   ]
  },
  {
   "cell_type": "markdown",
   "id": "1d8d7386",
   "metadata": {},
   "source": [
    "# Scatterplot Matrix of District "
   ]
  },
  {
   "cell_type": "code",
   "execution_count": null,
   "id": "4a8bf937",
   "metadata": {
    "scrolled": true
   },
   "outputs": [],
   "source": [
    "fig = px.scatter_matrix(dcdc,\n",
    "    dimensions=[\"SAT_ReadingD\", \"SAT_MathD\", \"EnglishD\", \"ACT_MathD\",\"ReadingD\",\"ScienceD\"],\n",
    "    color=\"Group\")\n",
    "fig.show()"
   ]
  },
  {
   "cell_type": "markdown",
   "id": "8b4d02f1",
   "metadata": {},
   "source": [
    "# Interactive Table"
   ]
  },
  {
   "cell_type": "code",
   "execution_count": null,
   "id": "faa3ede2",
   "metadata": {},
   "outputs": [],
   "source": [
    "from ipywidgets import interact, interact_manual"
   ]
  },
  {
   "cell_type": "code",
   "execution_count": null,
   "id": "3c9d133d",
   "metadata": {},
   "outputs": [],
   "source": [
    "@interact\n",
    "def show_articles_more_than(column='Total', x=5000):\n",
    "    return dcdc.loc[dcdc[column] > x]\n",
    "\n"
   ]
  },
  {
   "cell_type": "markdown",
   "id": "50b85baa",
   "metadata": {},
   "source": [
    "# Little Preparation before Mapping\n",
    "### Very important to get certain features to make the map more sense to the purpose"
   ]
  },
  {
   "cell_type": "code",
   "execution_count": null,
   "id": "1e91dd28",
   "metadata": {
    "scrolled": true
   },
   "outputs": [],
   "source": [
    "dcdc.columns"
   ]
  },
  {
   "cell_type": "code",
   "execution_count": null,
   "id": "41aae741",
   "metadata": {},
   "outputs": [],
   "source": [
    "dcdc = dcdc[['DistName','Latitude', 'Longitude', 'Region', 'Total','Compos','TotalD','ComposD']]"
   ]
  },
  {
   "cell_type": "code",
   "execution_count": null,
   "id": "07240b81",
   "metadata": {
    "scrolled": true
   },
   "outputs": [],
   "source": [
    "dcdc"
   ]
  },
  {
   "cell_type": "code",
   "execution_count": null,
   "id": "5d044a0c",
   "metadata": {
    "scrolled": true
   },
   "outputs": [],
   "source": [
    "dcdc.groupby('DistName', as_index=True).size().to_frame(name='Total').reset_index()"
   ]
  },
  {
   "cell_type": "code",
   "execution_count": null,
   "id": "b5ad797d",
   "metadata": {},
   "outputs": [],
   "source": [
    "fig =px.bar(dcdc, x=\"DistName\", y=\"Total\")\n",
    "fig.show()"
   ]
  },
  {
   "cell_type": "markdown",
   "id": "ff953c6e",
   "metadata": {},
   "source": [
    "# Map of Texas"
   ]
  },
  {
   "cell_type": "code",
   "execution_count": null,
   "id": "bd99c719",
   "metadata": {},
   "outputs": [],
   "source": [
    "import pandas as pd\n",
    "import geopandas as gpd\n",
    "import geopandas\n",
    "import matplotlib.pyplot as plt\n",
    "pd.options.display.max_rows = 10"
   ]
  },
  {
   "cell_type": "code",
   "execution_count": null,
   "id": "e473b493",
   "metadata": {},
   "outputs": [],
   "source": [
    "sd = geopandas.read_file(r\"C:/Users/Sophi/Downloads/Districts2022to2023.geojson\")"
   ]
  },
  {
   "cell_type": "code",
   "execution_count": null,
   "id": "d15c70f4",
   "metadata": {
    "scrolled": true
   },
   "outputs": [],
   "source": [
    "sd"
   ]
  },
  {
   "cell_type": "code",
   "execution_count": null,
   "id": "cc646529",
   "metadata": {},
   "outputs": [],
   "source": [
    "sd.plot(column='NAME')"
   ]
  },
  {
   "cell_type": "code",
   "execution_count": null,
   "id": "b3b6c9be",
   "metadata": {
    "scrolled": true
   },
   "outputs": [],
   "source": [
    "tc= folium.Map(location=[31,-100],tiles='cartodbpositron',min_zoom=4,max_zoom=6,zoom_start=4)\n",
    "\n",
    "folium.Choropleth(\n",
    "    geo_data=sd,\n",
    "    name=\"choropleth\",\n",
    "    data=dcdc,\n",
    "    columns=[\"DistName\", \"Total\", \"Compos\"],\n",
    "    key_on=\"feature.properties.NAME\",\n",
    "    fill_color=\"YlOrRd\",\n",
    "    fill_opacity=0.7,\n",
    "    line_opacity=0.2,\n",
    "    legend_name=\"SAT/ACT total score in Texas\",\n",
    ").add_to(tc)\n",
    "\n",
    "folium.LayerControl().add_to(tc)\n",
    "\n",
    "tc"
   ]
  },
  {
   "cell_type": "code",
   "execution_count": null,
   "id": "dbc7357a",
   "metadata": {},
   "outputs": [],
   "source": [
    "tc.save('tc.html')"
   ]
  },
  {
   "cell_type": "code",
   "execution_count": null,
   "id": "4b5b3362",
   "metadata": {
    "scrolled": false
   },
   "outputs": [],
   "source": [
    "pip install voila"
   ]
  }
 ],
 "metadata": {
  "kernelspec": {
   "display_name": "Python 3 (ipykernel)",
   "language": "python",
   "name": "python3"
  },
  "language_info": {
   "codemirror_mode": {
    "name": "ipython",
    "version": 3
   },
   "file_extension": ".py",
   "mimetype": "text/x-python",
   "name": "python",
   "nbconvert_exporter": "python",
   "pygments_lexer": "ipython3",
   "version": "3.9.12"
  },
  "toc": {
   "base_numbering": 1,
   "nav_menu": {},
   "number_sections": false,
   "sideBar": false,
   "skip_h1_title": false,
   "title_cell": "Table of Contents",
   "title_sidebar": "Contents",
   "toc_cell": false,
   "toc_position": {},
   "toc_section_display": false,
   "toc_window_display": false
  }
 },
 "nbformat": 4,
 "nbformat_minor": 5
}
